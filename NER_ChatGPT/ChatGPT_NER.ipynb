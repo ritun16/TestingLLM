{
  "nbformat": 4,
  "nbformat_minor": 0,
  "metadata": {
    "colab": {
      "provenance": []
    },
    "kernelspec": {
      "name": "python3",
      "display_name": "Python 3"
    },
    "language_info": {
      "name": "python"
    }
  },
  "cells": [
    {
      "cell_type": "markdown",
      "source": [
        "# Zero-Shot NER using OpenAI ChatGPT, Python and Streamlit"
      ],
      "metadata": {
        "id": "Z8XhvOy4oS3C"
      }
    },
    {
      "cell_type": "markdown",
      "source": [
        "## Install `openai` and `streamlit` python packages"
      ],
      "metadata": {
        "id": "EJajvmFBoaqy"
      }
    },
    {
      "cell_type": "code",
      "source": [
        "!pip install --upgrade openai\n",
        "!pip install -q streamlit"
      ],
      "metadata": {
        "id": "q3zfMNLnMjiG"
      },
      "execution_count": null,
      "outputs": []
    },
    {
      "cell_type": "markdown",
      "source": [
        "## Setup Ngrok in colab"
      ],
      "metadata": {
        "id": "8FbRB_T1osDI"
      }
    },
    {
      "cell_type": "markdown",
      "source": [
        "### Download ngrok linux package"
      ],
      "metadata": {
        "id": "1ZEitIQXo5N_"
      }
    },
    {
      "cell_type": "code",
      "source": [
        "!wget https://bin.equinox.io/c/bNyj1mQVY4c/ngrok-v3-stable-linux-386.tgz"
      ],
      "metadata": {
        "id": "E5uSpHydokiB"
      },
      "execution_count": null,
      "outputs": []
    },
    {
      "cell_type": "markdown",
      "source": [
        "### Extract the package"
      ],
      "metadata": {
        "id": "c3u5hR29o-NU"
      }
    },
    {
      "cell_type": "code",
      "source": [
        "!tar -xvf ngrok-v3-stable-linux-386.tgz"
      ],
      "metadata": {
        "colab": {
          "base_uri": "https://localhost:8080/"
        },
        "id": "ac6DkzSBpEwZ",
        "outputId": "6148f380-7e9c-42f1-bd5c-703d988d7fe9"
      },
      "execution_count": 3,
      "outputs": [
        {
          "output_type": "stream",
          "name": "stdout",
          "text": [
            "ngrok\n"
          ]
        }
      ]
    },
    {
      "cell_type": "markdown",
      "source": [
        "### Autheticate ngrok with token\n",
        "[ngrok auth token](https://dashboard.ngrok.com/get-started/your-authtoken)"
      ],
      "metadata": {
        "id": "CiXukWMRpKIZ"
      }
    },
    {
      "cell_type": "code",
      "source": [
        "!./ngrok config add-authtoken your_ngrok_authetication_token"
      ],
      "metadata": {
        "id": "SoDOsjhRpNDI"
      },
      "execution_count": null,
      "outputs": []
    },
    {
      "cell_type": "markdown",
      "source": [
        "### Install pyngrok"
      ],
      "metadata": {
        "id": "izWu8wQLpU5h"
      }
    },
    {
      "cell_type": "code",
      "source": [
        "!pip install pyngrok"
      ],
      "metadata": {
        "id": "LI3L5MKSpUsf"
      },
      "execution_count": null,
      "outputs": []
    },
    {
      "cell_type": "markdown",
      "source": [
        "### Tunnel from Google Colab to ngrok"
      ],
      "metadata": {
        "id": "3-JrTYsSpZrT"
      }
    },
    {
      "cell_type": "code",
      "source": [
        "from pyngrok import ngrok \n",
        "public_url = ngrok.connect(port='8501')\n",
        "public_url"
      ],
      "metadata": {
        "id": "i92jhFVHpUjv"
      },
      "execution_count": null,
      "outputs": []
    },
    {
      "cell_type": "markdown",
      "source": [
        "## Write the whole code as a file for our NER streamlit application"
      ],
      "metadata": {
        "id": "ftiNg3Lupm74"
      }
    },
    {
      "cell_type": "code",
      "source": [
        "%%writefile ner_streamlit_app.py \n",
        "import streamlit as st\n",
        "import openai\n",
        "import os\n",
        "import re\n",
        "import ast\n",
        "\n",
        "openai.api_key = \"OPENAI_API_KEY\"\n",
        "\n",
        "SYSTEM_PROMPT = \"You are a smart and intelligent Named Entity Recognition (NER) system. I will provide you the definition of the entities you need to extract, the sentence from where your extract the entities and the output format with examples.\"\n",
        "\n",
        "USER_PROMPT_1 = \"Are you clear about your role?\"\n",
        "\n",
        "ASSISTANT_PROMPT_1 = \"Sure, I'm ready to help you with your NER task. Please provide me with the necessary information to get started.\"\n",
        "\n",
        "GUIDELINES_PROMPT = (\n",
        "    \"Entity Definition:\\n\"\n",
        "    \"1. PERSON: Short name or full name of a person from any geographic regions.\\n\"\n",
        "    \"2. DATE: Any format of dates. Dates can also be in natural language.\\n\"\n",
        "    \"3. LOC: Name of any geographic location, like cities, countries, continents, districts etc.\\n\"\n",
        "    \"\\n\"\n",
        "    \"Output Format:\\n\"\n",
        "    \"{{'PERSON': [list of entities present], 'DATE': [list of entities present], 'LOC': [list of entities present]}}\\n\"\n",
        "    \"If no entities are presented in any categories keep it None\\n\"\n",
        "    \"\\n\"\n",
        "    \"Examples:\\n\"\n",
        "    \"\\n\"\n",
        "    \"1. Sentence: Mr. Jacob lives in Madrid since 12th January 2015.\\n\"\n",
        "    \"Output: {{'PERSON': ['Mr. Jacob'], 'DATE': ['12th January 2015'], 'LOC': ['Madrid']}}\\n\"\n",
        "    \"\\n\"\n",
        "    \"2. Sentence: Mr. Rajeev Mishra and Sunita Roy are friends and they meet each other on 24/03/1998.\\n\"\n",
        "    \"Output: {{'PERSON': ['Mr. Rajeev Mishra', 'Sunita Roy'], 'DATE': ['24/03/1998'], 'LOC': ['None']}}\\n\"\n",
        "    \"\\n\"\n",
        "    \"3. Sentence: {}\\n\"\n",
        "    \"Output: \"\n",
        ")\n",
        "\n",
        "COLORED_ENTITY = {\"PERSON\": \"red\", \"DATE\": \"blue\", \"LOC\": \"green\"}\n",
        "\n",
        "\n",
        "def openai_chat_completion_response(final_prompt):\n",
        "  response = openai.ChatCompletion.create(\n",
        "              model=\"gpt-3.5-turbo\",\n",
        "              messages=[\n",
        "                    {\"role\": \"system\", \"content\": SYSTEM_PROMPT},\n",
        "                    {\"role\": \"user\", \"content\": USER_PROMPT_1},\n",
        "                    {\"role\": \"assistant\", \"content\": ASSISTANT_PROMPT_1},\n",
        "                    {\"role\": \"user\", \"content\": final_prompt}\n",
        "                ]\n",
        "            )\n",
        "\n",
        "  return response['choices'][0]['message']['content'].strip(\" \\n\")\n",
        "\n",
        "\n",
        "\n",
        "\n",
        "my_sentence = st.text_input('Your Sentence')\n",
        "if st.button('Submit'):\n",
        "  GUIDELINES_PROMPT = GUIDELINES_PROMPT.format(my_sentence)\n",
        "  ners = openai_chat_completion_response(GUIDELINES_PROMPT)\n",
        "  ners_dictionary = ast.literal_eval(ners)\n",
        "  for entity_type, entity_list in ners_dictionary.items():\n",
        "    entity_list = list(set(entity_list))\n",
        "    for ent in entity_list:\n",
        "      if ent != 'None':\n",
        "        my_sentence = re.sub(ent, \":\"+COLORED_ENTITY[entity_type]+\"[\"+ent+\"\\[\"+entity_type+\"\\]\"+\"]\", my_sentence)\n",
        "  st.markdown(my_sentence)"
      ],
      "metadata": {
        "id": "rGKKsQc7pUOY"
      },
      "execution_count": null,
      "outputs": []
    },
    {
      "cell_type": "markdown",
      "source": [
        "## Run the streamlit app"
      ],
      "metadata": {
        "id": "NTZIhdq5p6yI"
      }
    },
    {
      "cell_type": "code",
      "source": [
        "!streamlit run ./ner_streamlit_app.py & npx localtunnel --port 8501"
      ],
      "metadata": {
        "id": "jKWk4epTT0-q"
      },
      "execution_count": null,
      "outputs": []
    },
    {
      "cell_type": "code",
      "source": [],
      "metadata": {
        "id": "LbTFtZcNhx6F"
      },
      "execution_count": null,
      "outputs": []
    }
  ]
}
